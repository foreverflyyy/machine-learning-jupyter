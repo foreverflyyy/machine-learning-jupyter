{
 "cells": [
  {
   "cell_type": "code",
   "execution_count": 1,
   "id": "17d6df1f",
   "metadata": {},
   "outputs": [],
   "source": [
    "import pandas as pd"
   ]
  },
  {
   "cell_type": "code",
   "execution_count": 4,
   "id": "3a380f4d",
   "metadata": {},
   "outputs": [],
   "source": [
    "df = pd.read_csv('dataset_Facebook.csv')"
   ]
  },
  {
   "cell_type": "code",
   "execution_count": 5,
   "id": "0e17ef02",
   "metadata": {},
   "outputs": [
    {
     "data": {
      "text/html": [
       "<div>\n",
       "<style scoped>\n",
       "    .dataframe tbody tr th:only-of-type {\n",
       "        vertical-align: middle;\n",
       "    }\n",
       "\n",
       "    .dataframe tbody tr th {\n",
       "        vertical-align: top;\n",
       "    }\n",
       "\n",
       "    .dataframe thead th {\n",
       "        text-align: right;\n",
       "    }\n",
       "</style>\n",
       "<table border=\"1\" class=\"dataframe\">\n",
       "  <thead>\n",
       "    <tr style=\"text-align: right;\">\n",
       "      <th></th>\n",
       "      <th>Page total likes</th>\n",
       "      <th>Type</th>\n",
       "      <th>Category</th>\n",
       "      <th>Post Month</th>\n",
       "      <th>Post Weekday</th>\n",
       "      <th>Post Hour</th>\n",
       "      <th>Paid</th>\n",
       "      <th>Lifetime Post Total Reach</th>\n",
       "      <th>comment</th>\n",
       "      <th>like</th>\n",
       "      <th>share</th>\n",
       "      <th>Total Interactions</th>\n",
       "    </tr>\n",
       "  </thead>\n",
       "  <tbody>\n",
       "    <tr>\n",
       "      <th>0</th>\n",
       "      <td>139441</td>\n",
       "      <td>Photo</td>\n",
       "      <td>2</td>\n",
       "      <td>12</td>\n",
       "      <td>4.0</td>\n",
       "      <td>3</td>\n",
       "      <td>0.0</td>\n",
       "      <td>2752.0</td>\n",
       "      <td>4.0</td>\n",
       "      <td>79.0</td>\n",
       "      <td>17.0</td>\n",
       "      <td>100</td>\n",
       "    </tr>\n",
       "    <tr>\n",
       "      <th>1</th>\n",
       "      <td>139441</td>\n",
       "      <td>Status</td>\n",
       "      <td>2</td>\n",
       "      <td>12</td>\n",
       "      <td>3.0</td>\n",
       "      <td>10</td>\n",
       "      <td>0.0</td>\n",
       "      <td>10460.0</td>\n",
       "      <td>5.0</td>\n",
       "      <td>130.0</td>\n",
       "      <td>29.0</td>\n",
       "      <td>164</td>\n",
       "    </tr>\n",
       "    <tr>\n",
       "      <th>2</th>\n",
       "      <td>139441</td>\n",
       "      <td>Photo</td>\n",
       "      <td>3</td>\n",
       "      <td>12</td>\n",
       "      <td>3.0</td>\n",
       "      <td>3</td>\n",
       "      <td>0.0</td>\n",
       "      <td>2413.0</td>\n",
       "      <td>0.0</td>\n",
       "      <td>66.0</td>\n",
       "      <td>14.0</td>\n",
       "      <td>80</td>\n",
       "    </tr>\n",
       "    <tr>\n",
       "      <th>3</th>\n",
       "      <td>139441</td>\n",
       "      <td>Photo</td>\n",
       "      <td>2</td>\n",
       "      <td>12</td>\n",
       "      <td>2.0</td>\n",
       "      <td>10</td>\n",
       "      <td>1.0</td>\n",
       "      <td>50128.0</td>\n",
       "      <td>58.0</td>\n",
       "      <td>1572.0</td>\n",
       "      <td>147.0</td>\n",
       "      <td>1777</td>\n",
       "    </tr>\n",
       "    <tr>\n",
       "      <th>4</th>\n",
       "      <td>139441</td>\n",
       "      <td>Photo</td>\n",
       "      <td>2</td>\n",
       "      <td>12</td>\n",
       "      <td>2.0</td>\n",
       "      <td>3</td>\n",
       "      <td>0.0</td>\n",
       "      <td>7244.0</td>\n",
       "      <td>19.0</td>\n",
       "      <td>325.0</td>\n",
       "      <td>49.0</td>\n",
       "      <td>393</td>\n",
       "    </tr>\n",
       "  </tbody>\n",
       "</table>\n",
       "</div>"
      ],
      "text/plain": [
       "   Page total likes    Type  Category  Post Month  Post Weekday  Post Hour  \\\n",
       "0            139441   Photo         2          12           4.0          3   \n",
       "1            139441  Status         2          12           3.0         10   \n",
       "2            139441   Photo         3          12           3.0          3   \n",
       "3            139441   Photo         2          12           2.0         10   \n",
       "4            139441   Photo         2          12           2.0          3   \n",
       "\n",
       "   Paid  Lifetime Post Total Reach  comment    like  share  Total Interactions  \n",
       "0   0.0                     2752.0      4.0    79.0   17.0                 100  \n",
       "1   0.0                    10460.0      5.0   130.0   29.0                 164  \n",
       "2   0.0                     2413.0      0.0    66.0   14.0                  80  \n",
       "3   1.0                    50128.0     58.0  1572.0  147.0                1777  \n",
       "4   0.0                     7244.0     19.0   325.0   49.0                 393  "
      ]
     },
     "execution_count": 5,
     "metadata": {},
     "output_type": "execute_result"
    }
   ],
   "source": [
    "df.head()"
   ]
  },
  {
   "cell_type": "code",
   "execution_count": 6,
   "id": "e1bd12c2",
   "metadata": {},
   "outputs": [
    {
     "name": "stdout",
     "output_type": "stream",
     "text": [
      "<class 'pandas.core.frame.DataFrame'>\n",
      "RangeIndex: 500 entries, 0 to 499\n",
      "Data columns (total 12 columns):\n",
      " #   Column                     Non-Null Count  Dtype  \n",
      "---  ------                     --------------  -----  \n",
      " 0   Page total likes           500 non-null    int64  \n",
      " 1   Type                       496 non-null    object \n",
      " 2   Category                   500 non-null    int64  \n",
      " 3   Post Month                 500 non-null    int64  \n",
      " 4   Post Weekday               496 non-null    float64\n",
      " 5   Post Hour                  500 non-null    int64  \n",
      " 6   Paid                       497 non-null    float64\n",
      " 7   Lifetime Post Total Reach  496 non-null    float64\n",
      " 8   comment                    497 non-null    float64\n",
      " 9   like                       499 non-null    float64\n",
      " 10  share                      486 non-null    float64\n",
      " 11  Total Interactions         500 non-null    int64  \n",
      "dtypes: float64(6), int64(5), object(1)\n",
      "memory usage: 47.0+ KB\n"
     ]
    }
   ],
   "source": [
    "df.info()"
   ]
  },
  {
   "cell_type": "code",
   "execution_count": 7,
   "id": "5c0bc1d6",
   "metadata": {},
   "outputs": [],
   "source": [
    "df = df.drop(['Type'], axis=1)"
   ]
  },
  {
   "cell_type": "code",
   "execution_count": 8,
   "id": "41f90844",
   "metadata": {},
   "outputs": [],
   "source": [
    "df = df[~df['Post Weekday'].isnull()]\n",
    "df = df[~df['Paid'].isnull()]\n",
    "df = df[~df['Lifetime Post Total Reach'].isnull()]\n",
    "df = df[~df['comment'].isnull()]\n",
    "df = df[~df['like'].isnull()]\n",
    "df = df[~df['share'].isnull()]"
   ]
  },
  {
   "cell_type": "code",
   "execution_count": 9,
   "id": "dc2f0dbc",
   "metadata": {},
   "outputs": [
    {
     "name": "stdout",
     "output_type": "stream",
     "text": [
      "<class 'pandas.core.frame.DataFrame'>\n",
      "Index: 475 entries, 0 to 498\n",
      "Data columns (total 11 columns):\n",
      " #   Column                     Non-Null Count  Dtype  \n",
      "---  ------                     --------------  -----  \n",
      " 0   Page total likes           475 non-null    int64  \n",
      " 1   Category                   475 non-null    int64  \n",
      " 2   Post Month                 475 non-null    int64  \n",
      " 3   Post Weekday               475 non-null    float64\n",
      " 4   Post Hour                  475 non-null    int64  \n",
      " 5   Paid                       475 non-null    float64\n",
      " 6   Lifetime Post Total Reach  475 non-null    float64\n",
      " 7   comment                    475 non-null    float64\n",
      " 8   like                       475 non-null    float64\n",
      " 9   share                      475 non-null    float64\n",
      " 10  Total Interactions         475 non-null    int64  \n",
      "dtypes: float64(6), int64(5)\n",
      "memory usage: 44.5 KB\n"
     ]
    }
   ],
   "source": [
    "df.info()"
   ]
  },
  {
   "cell_type": "code",
   "execution_count": 10,
   "id": "a95984ba",
   "metadata": {},
   "outputs": [],
   "source": [
    "y = df['Paid']\n",
    "df = df.drop('Paid', axis=1)"
   ]
  },
  {
   "cell_type": "code",
   "execution_count": 11,
   "id": "db560e1d",
   "metadata": {},
   "outputs": [],
   "source": [
    "from sklearn.metrics import precision_score, recall_score, accuracy_score, classification_report"
   ]
  },
  {
   "cell_type": "code",
   "execution_count": 12,
   "id": "9850d01a",
   "metadata": {},
   "outputs": [],
   "source": [
    "from sklearn.model_selection import train_test_split"
   ]
  },
  {
   "cell_type": "code",
   "execution_count": 13,
   "id": "7fde6656",
   "metadata": {},
   "outputs": [],
   "source": [
    "X_train, X_test, y_train, y_test = train_test_split(df, y, test_size=0.33, random_state=42)"
   ]
  },
  {
   "cell_type": "code",
   "execution_count": 14,
   "id": "1a67316d",
   "metadata": {},
   "outputs": [],
   "source": [
    "from sklearn.metrics import accuracy_score, f1_score"
   ]
  },
  {
   "cell_type": "code",
   "execution_count": 15,
   "id": "f4151a95",
   "metadata": {},
   "outputs": [
    {
     "name": "stdout",
     "output_type": "stream",
     "text": [
      "precision 0.3333333333333333\n",
      "recall 0.125\n",
      "accuracy 0.7133757961783439\n",
      "f1 0.18181818181818182\n"
     ]
    }
   ],
   "source": [
    "from sklearn.ensemble import RandomForestClassifier\n",
    "model = RandomForestClassifier()                    \n",
    "model.fit(X_train, y_train)                         \n",
    "predict = model.predict(X_test)                     \n",
    "\n",
    "print('precision', precision_score(y_test, predict))\n",
    "print('recall', recall_score(y_test, predict))\n",
    "print('accuracy', accuracy_score(y_test, predict))\n",
    "print('f1', f1_score(y_test, predict))"
   ]
  },
  {
   "cell_type": "code",
   "execution_count": 16,
   "id": "ce1623cf",
   "metadata": {},
   "outputs": [
    {
     "name": "stdout",
     "output_type": "stream",
     "text": [
      "precision 0.4117647058823529\n",
      "recall 0.175\n",
      "accuracy 0.7261146496815286\n",
      "f1 0.2456140350877193\n"
     ]
    }
   ],
   "source": [
    "model = RandomForestClassifier(n_estimators=2000)\n",
    "model.fit(X_train, y_train)\n",
    "predict = model.predict(X_test)\n",
    "\n",
    "print('precision', precision_score(y_test, predict))\n",
    "print('recall', recall_score(y_test, predict))\n",
    "print('accuracy', accuracy_score(y_test, predict))\n",
    "print('f1', f1_score(y_test, predict))"
   ]
  },
  {
   "cell_type": "code",
   "execution_count": 17,
   "id": "ab109235",
   "metadata": {},
   "outputs": [
    {
     "data": {
      "text/plain": [
       "array([[0.371 , 0.629 ],\n",
       "       [0.6465, 0.3535],\n",
       "       [0.778 , 0.222 ],\n",
       "       [0.8985, 0.1015],\n",
       "       [0.5205, 0.4795],\n",
       "       [0.71  , 0.29  ],\n",
       "       [0.4625, 0.5375],\n",
       "       [0.315 , 0.685 ],\n",
       "       [0.738 , 0.262 ],\n",
       "       [0.58  , 0.42  ],\n",
       "       [0.7295, 0.2705],\n",
       "       [0.814 , 0.186 ],\n",
       "       [0.59  , 0.41  ],\n",
       "       [0.488 , 0.512 ],\n",
       "       [0.8195, 0.1805],\n",
       "       [0.8425, 0.1575],\n",
       "       [0.612 , 0.388 ],\n",
       "       [0.776 , 0.224 ],\n",
       "       [0.5695, 0.4305],\n",
       "       [0.714 , 0.286 ],\n",
       "       [0.763 , 0.237 ],\n",
       "       [0.7085, 0.2915],\n",
       "       [0.6795, 0.3205],\n",
       "       [0.8905, 0.1095],\n",
       "       [0.7195, 0.2805],\n",
       "       [0.756 , 0.244 ],\n",
       "       [0.51  , 0.49  ],\n",
       "       [0.8135, 0.1865],\n",
       "       [0.758 , 0.242 ],\n",
       "       [0.625 , 0.375 ],\n",
       "       [0.7455, 0.2545],\n",
       "       [0.5295, 0.4705],\n",
       "       [0.7175, 0.2825],\n",
       "       [0.813 , 0.187 ],\n",
       "       [0.703 , 0.297 ],\n",
       "       [0.733 , 0.267 ],\n",
       "       [0.8755, 0.1245],\n",
       "       [0.5485, 0.4515],\n",
       "       [0.719 , 0.281 ],\n",
       "       [0.736 , 0.264 ],\n",
       "       [0.781 , 0.219 ],\n",
       "       [0.746 , 0.254 ],\n",
       "       [0.597 , 0.403 ],\n",
       "       [0.418 , 0.582 ],\n",
       "       [0.619 , 0.381 ],\n",
       "       [0.515 , 0.485 ],\n",
       "       [0.6125, 0.3875],\n",
       "       [0.7845, 0.2155],\n",
       "       [0.5805, 0.4195],\n",
       "       [0.398 , 0.602 ],\n",
       "       [0.6815, 0.3185],\n",
       "       [0.862 , 0.138 ],\n",
       "       [0.7675, 0.2325],\n",
       "       [0.4085, 0.5915],\n",
       "       [0.7855, 0.2145],\n",
       "       [0.6175, 0.3825],\n",
       "       [0.7785, 0.2215],\n",
       "       [0.6325, 0.3675],\n",
       "       [0.5695, 0.4305],\n",
       "       [0.658 , 0.342 ],\n",
       "       [0.7405, 0.2595],\n",
       "       [0.6305, 0.3695],\n",
       "       [0.7565, 0.2435],\n",
       "       [0.843 , 0.157 ],\n",
       "       [0.5635, 0.4365],\n",
       "       [0.7085, 0.2915],\n",
       "       [0.8375, 0.1625],\n",
       "       [0.5215, 0.4785],\n",
       "       [0.5735, 0.4265],\n",
       "       [0.7905, 0.2095],\n",
       "       [0.73  , 0.27  ],\n",
       "       [0.5425, 0.4575],\n",
       "       [0.761 , 0.239 ],\n",
       "       [0.655 , 0.345 ],\n",
       "       [0.749 , 0.251 ],\n",
       "       [0.696 , 0.304 ],\n",
       "       [0.763 , 0.237 ],\n",
       "       [0.7275, 0.2725],\n",
       "       [0.574 , 0.426 ],\n",
       "       [0.4795, 0.5205],\n",
       "       [0.469 , 0.531 ],\n",
       "       [0.8135, 0.1865],\n",
       "       [0.7   , 0.3   ],\n",
       "       [0.5595, 0.4405],\n",
       "       [0.457 , 0.543 ],\n",
       "       [0.778 , 0.222 ],\n",
       "       [0.889 , 0.111 ],\n",
       "       [0.6985, 0.3015],\n",
       "       [0.6255, 0.3745],\n",
       "       [0.6465, 0.3535],\n",
       "       [0.8495, 0.1505],\n",
       "       [0.7655, 0.2345],\n",
       "       [0.6595, 0.3405],\n",
       "       [0.7955, 0.2045],\n",
       "       [0.731 , 0.269 ],\n",
       "       [0.7075, 0.2925],\n",
       "       [0.585 , 0.415 ],\n",
       "       [0.7095, 0.2905],\n",
       "       [0.828 , 0.172 ],\n",
       "       [0.685 , 0.315 ],\n",
       "       [0.584 , 0.416 ],\n",
       "       [0.614 , 0.386 ],\n",
       "       [0.423 , 0.577 ],\n",
       "       [0.7985, 0.2015],\n",
       "       [0.6775, 0.3225],\n",
       "       [0.527 , 0.473 ],\n",
       "       [0.846 , 0.154 ],\n",
       "       [0.802 , 0.198 ],\n",
       "       [0.6895, 0.3105],\n",
       "       [0.7645, 0.2355],\n",
       "       [0.8875, 0.1125],\n",
       "       [0.449 , 0.551 ],\n",
       "       [0.6975, 0.3025],\n",
       "       [0.6285, 0.3715],\n",
       "       [0.8625, 0.1375],\n",
       "       [0.6125, 0.3875],\n",
       "       [0.7845, 0.2155],\n",
       "       [0.497 , 0.503 ],\n",
       "       [0.855 , 0.145 ],\n",
       "       [0.764 , 0.236 ],\n",
       "       [0.6645, 0.3355],\n",
       "       [0.888 , 0.112 ],\n",
       "       [0.845 , 0.155 ],\n",
       "       [0.6205, 0.3795],\n",
       "       [0.793 , 0.207 ],\n",
       "       [0.71  , 0.29  ],\n",
       "       [0.5985, 0.4015],\n",
       "       [0.8215, 0.1785],\n",
       "       [0.6875, 0.3125],\n",
       "       [0.729 , 0.271 ],\n",
       "       [0.7   , 0.3   ],\n",
       "       [0.501 , 0.499 ],\n",
       "       [0.843 , 0.157 ],\n",
       "       [0.9325, 0.0675],\n",
       "       [0.417 , 0.583 ],\n",
       "       [0.4485, 0.5515],\n",
       "       [0.5935, 0.4065],\n",
       "       [0.4835, 0.5165],\n",
       "       [0.639 , 0.361 ],\n",
       "       [0.697 , 0.303 ],\n",
       "       [0.379 , 0.621 ],\n",
       "       [0.809 , 0.191 ],\n",
       "       [0.745 , 0.255 ],\n",
       "       [0.5225, 0.4775],\n",
       "       [0.676 , 0.324 ],\n",
       "       [0.539 , 0.461 ],\n",
       "       [0.79  , 0.21  ],\n",
       "       [0.89  , 0.11  ],\n",
       "       [0.6885, 0.3115],\n",
       "       [0.82  , 0.18  ],\n",
       "       [0.7805, 0.2195],\n",
       "       [0.816 , 0.184 ],\n",
       "       [0.532 , 0.468 ],\n",
       "       [0.7915, 0.2085],\n",
       "       [0.96  , 0.04  ],\n",
       "       [0.889 , 0.111 ],\n",
       "       [0.792 , 0.208 ]])"
      ]
     },
     "execution_count": 17,
     "metadata": {},
     "output_type": "execute_result"
    }
   ],
   "source": [
    "predict_proba = model.predict_proba(X_test)\n",
    "predict_proba"
   ]
  },
  {
   "cell_type": "code",
   "execution_count": 18,
   "id": "b1ff0a71",
   "metadata": {},
   "outputs": [
    {
     "data": {
      "text/plain": [
       "array([0.629 , 0.3535, 0.222 , 0.1015, 0.4795, 0.29  , 0.5375, 0.685 ,\n",
       "       0.262 , 0.42  , 0.2705, 0.186 , 0.41  , 0.512 , 0.1805, 0.1575,\n",
       "       0.388 , 0.224 , 0.4305, 0.286 , 0.237 , 0.2915, 0.3205, 0.1095,\n",
       "       0.2805, 0.244 , 0.49  , 0.1865, 0.242 , 0.375 , 0.2545, 0.4705,\n",
       "       0.2825, 0.187 , 0.297 , 0.267 , 0.1245, 0.4515, 0.281 , 0.264 ,\n",
       "       0.219 , 0.254 , 0.403 , 0.582 , 0.381 , 0.485 , 0.3875, 0.2155,\n",
       "       0.4195, 0.602 , 0.3185, 0.138 , 0.2325, 0.5915, 0.2145, 0.3825,\n",
       "       0.2215, 0.3675, 0.4305, 0.342 , 0.2595, 0.3695, 0.2435, 0.157 ,\n",
       "       0.4365, 0.2915, 0.1625, 0.4785, 0.4265, 0.2095, 0.27  , 0.4575,\n",
       "       0.239 , 0.345 , 0.251 , 0.304 , 0.237 , 0.2725, 0.426 , 0.5205,\n",
       "       0.531 , 0.1865, 0.3   , 0.4405, 0.543 , 0.222 , 0.111 , 0.3015,\n",
       "       0.3745, 0.3535, 0.1505, 0.2345, 0.3405, 0.2045, 0.269 , 0.2925,\n",
       "       0.415 , 0.2905, 0.172 , 0.315 , 0.416 , 0.386 , 0.577 , 0.2015,\n",
       "       0.3225, 0.473 , 0.154 , 0.198 , 0.3105, 0.2355, 0.1125, 0.551 ,\n",
       "       0.3025, 0.3715, 0.1375, 0.3875, 0.2155, 0.503 , 0.145 , 0.236 ,\n",
       "       0.3355, 0.112 , 0.155 , 0.3795, 0.207 , 0.29  , 0.4015, 0.1785,\n",
       "       0.3125, 0.271 , 0.3   , 0.499 , 0.157 , 0.0675, 0.583 , 0.5515,\n",
       "       0.4065, 0.5165, 0.361 , 0.303 , 0.621 , 0.191 , 0.255 , 0.4775,\n",
       "       0.324 , 0.461 , 0.21  , 0.11  , 0.3115, 0.18  , 0.2195, 0.184 ,\n",
       "       0.468 , 0.2085, 0.04  , 0.111 , 0.208 ])"
      ]
     },
     "execution_count": 18,
     "metadata": {},
     "output_type": "execute_result"
    }
   ],
   "source": [
    "predict_proba[:,1]"
   ]
  },
  {
   "cell_type": "code",
   "execution_count": 19,
   "id": "acef34e3",
   "metadata": {},
   "outputs": [],
   "source": [
    "import random\n",
    "tmp = [\n",
    "    random.random()\n",
    "    for _ in range (len(predict_proba[:1]))\n",
    "]"
   ]
  },
  {
   "cell_type": "code",
   "execution_count": 20,
   "id": "4bec52c8",
   "metadata": {},
   "outputs": [
    {
     "data": {
      "text/plain": [
       "(-0.01, 1.01)"
      ]
     },
     "execution_count": 20,
     "metadata": {},
     "output_type": "execute_result"
    },
    {
     "data": {
      "image/png": "[encoded data removed]",
      "text/plain": [
       "<Figure size 500x500 with 1 Axes>"
      ]
     },
     "metadata": {},
     "output_type": "display_data"
    }
   ],
   "source": [
    "%matplotlib inline\n",
    "from matplotlib import pyplot as plt\n",
    "from sklearn.metrics import roc_auc_score, roc_curve\n",
    "fpr, tpr, thresholds = roc_curve(y_test, predict_proba[:,1])\n",
    "plt.figure(figsize=(5, 5))\n",
    "plt.plot(fpr, tpr)\n",
    "plt.plot([0, 1], [0, 1])\n",
    "plt.ylabel('tpr')\n",
    "plt.xlabel('fpr')\n",
    "plt.grid(True)\n",
    "plt.title('ROC curve')\n",
    "plt.xlim((-0.01, 1.01))\n",
    "plt.ylim((-0.01, 1.01))"
   ]
  },
  {
   "cell_type": "code",
   "execution_count": 21,
   "id": "13fa4e56",
   "metadata": {},
   "outputs": [
    {
     "data": {
      "text/plain": [
       "0.5967948717948718"
      ]
     },
     "execution_count": 21,
     "metadata": {},
     "output_type": "execute_result"
    }
   ],
   "source": [
    "roc_auc_score(y_test, predict_proba[:,1])"
   ]
  },
  {
   "cell_type": "code",
   "execution_count": 22,
   "id": "ff144914",
   "metadata": {},
   "outputs": [
    {
     "data": {
      "text/plain": [
       "array([0.68802521, 0.59663866, 0.17226891, 0.39810924, 0.33718487,\n",
       "       0.51244344, 0.40158371, 0.31221719, 0.260181  , 0.34049774])"
      ]
     },
     "execution_count": 22,
     "metadata": {},
     "output_type": "execute_result"
    }
   ],
   "source": [
    "from sklearn.model_selection import cross_val_score\n",
    "rfc = RandomForestClassifier()\n",
    "cross_val_score(\n",
    "    rfc,\n",
    "    df,\n",
    "    y,\n",
    "    scoring='roc_auc',\n",
    "    cv=10\n",
    ")"
   ]
  },
  {
   "cell_type": "markdown",
   "id": "9e56e244",
   "metadata": {},
   "source": [
    "Обработаем ещё раз и получим лучший результат при обучении модели"
   ]
  },
  {
   "cell_type": "code",
   "execution_count": 26,
   "id": "c8b91476",
   "metadata": {},
   "outputs": [
    {
     "name": "stdout",
     "output_type": "stream",
     "text": [
      "<class 'pandas.core.frame.DataFrame'>\n",
      "RangeIndex: 500 entries, 0 to 499\n",
      "Data columns (total 12 columns):\n",
      " #   Column                     Non-Null Count  Dtype  \n",
      "---  ------                     --------------  -----  \n",
      " 0   Page total likes           500 non-null    int64  \n",
      " 1   Type                       496 non-null    object \n",
      " 2   Category                   500 non-null    int64  \n",
      " 3   Post Month                 500 non-null    int64  \n",
      " 4   Post Weekday               496 non-null    float64\n",
      " 5   Post Hour                  500 non-null    int64  \n",
      " 6   Paid                       497 non-null    float64\n",
      " 7   Lifetime Post Total Reach  496 non-null    float64\n",
      " 8   comment                    497 non-null    float64\n",
      " 9   like                       499 non-null    float64\n",
      " 10  share                      486 non-null    float64\n",
      " 11  Total Interactions         500 non-null    int64  \n",
      "dtypes: float64(6), int64(5), object(1)\n",
      "memory usage: 47.0+ KB\n"
     ]
    }
   ],
   "source": [
    "df = pd.read_csv('dataset_Facebook.csv')\n",
    "df.info()"
   ]
  },
  {
   "cell_type": "code",
   "execution_count": 27,
   "id": "2fae8ba1",
   "metadata": {},
   "outputs": [],
   "source": [
    "df = df.drop(['Type'], axis=1)"
   ]
  },
  {
   "cell_type": "code",
   "execution_count": 29,
   "id": "16d050c4",
   "metadata": {},
   "outputs": [
    {
     "data": {
      "text/html": [
       "<div>\n",
       "<style scoped>\n",
       "    .dataframe tbody tr th:only-of-type {\n",
       "        vertical-align: middle;\n",
       "    }\n",
       "\n",
       "    .dataframe tbody tr th {\n",
       "        vertical-align: top;\n",
       "    }\n",
       "\n",
       "    .dataframe thead th {\n",
       "        text-align: right;\n",
       "    }\n",
       "</style>\n",
       "<table border=\"1\" class=\"dataframe\">\n",
       "  <thead>\n",
       "    <tr style=\"text-align: right;\">\n",
       "      <th></th>\n",
       "      <th>Page total likes</th>\n",
       "      <th>Category</th>\n",
       "      <th>Post Month</th>\n",
       "      <th>Post Weekday</th>\n",
       "      <th>Post Hour</th>\n",
       "      <th>Paid</th>\n",
       "      <th>Lifetime Post Total Reach</th>\n",
       "      <th>comment</th>\n",
       "      <th>like</th>\n",
       "      <th>share</th>\n",
       "      <th>Total Interactions</th>\n",
       "    </tr>\n",
       "  </thead>\n",
       "  <tbody>\n",
       "    <tr>\n",
       "      <th>0</th>\n",
       "      <td>139441</td>\n",
       "      <td>2</td>\n",
       "      <td>12</td>\n",
       "      <td>4.0</td>\n",
       "      <td>3</td>\n",
       "      <td>0.0</td>\n",
       "      <td>2752.0</td>\n",
       "      <td>4.0</td>\n",
       "      <td>79.0</td>\n",
       "      <td>17.0</td>\n",
       "      <td>100</td>\n",
       "    </tr>\n",
       "    <tr>\n",
       "      <th>1</th>\n",
       "      <td>139441</td>\n",
       "      <td>2</td>\n",
       "      <td>12</td>\n",
       "      <td>3.0</td>\n",
       "      <td>10</td>\n",
       "      <td>0.0</td>\n",
       "      <td>10460.0</td>\n",
       "      <td>5.0</td>\n",
       "      <td>130.0</td>\n",
       "      <td>29.0</td>\n",
       "      <td>164</td>\n",
       "    </tr>\n",
       "    <tr>\n",
       "      <th>2</th>\n",
       "      <td>139441</td>\n",
       "      <td>3</td>\n",
       "      <td>12</td>\n",
       "      <td>3.0</td>\n",
       "      <td>3</td>\n",
       "      <td>0.0</td>\n",
       "      <td>2413.0</td>\n",
       "      <td>0.0</td>\n",
       "      <td>66.0</td>\n",
       "      <td>14.0</td>\n",
       "      <td>80</td>\n",
       "    </tr>\n",
       "    <tr>\n",
       "      <th>3</th>\n",
       "      <td>139441</td>\n",
       "      <td>2</td>\n",
       "      <td>12</td>\n",
       "      <td>2.0</td>\n",
       "      <td>10</td>\n",
       "      <td>1.0</td>\n",
       "      <td>50128.0</td>\n",
       "      <td>58.0</td>\n",
       "      <td>1572.0</td>\n",
       "      <td>147.0</td>\n",
       "      <td>1777</td>\n",
       "    </tr>\n",
       "    <tr>\n",
       "      <th>4</th>\n",
       "      <td>139441</td>\n",
       "      <td>2</td>\n",
       "      <td>12</td>\n",
       "      <td>2.0</td>\n",
       "      <td>3</td>\n",
       "      <td>0.0</td>\n",
       "      <td>7244.0</td>\n",
       "      <td>19.0</td>\n",
       "      <td>325.0</td>\n",
       "      <td>49.0</td>\n",
       "      <td>393</td>\n",
       "    </tr>\n",
       "  </tbody>\n",
       "</table>\n",
       "</div>"
      ],
      "text/plain": [
       "   Page total likes  Category  Post Month  Post Weekday  Post Hour  Paid  \\\n",
       "0            139441         2          12           4.0          3   0.0   \n",
       "1            139441         2          12           3.0         10   0.0   \n",
       "2            139441         3          12           3.0          3   0.0   \n",
       "3            139441         2          12           2.0         10   1.0   \n",
       "4            139441         2          12           2.0          3   0.0   \n",
       "\n",
       "   Lifetime Post Total Reach  comment    like  share  Total Interactions  \n",
       "0                     2752.0      4.0    79.0   17.0                 100  \n",
       "1                    10460.0      5.0   130.0   29.0                 164  \n",
       "2                     2413.0      0.0    66.0   14.0                  80  \n",
       "3                    50128.0     58.0  1572.0  147.0                1777  \n",
       "4                     7244.0     19.0   325.0   49.0                 393  "
      ]
     },
     "execution_count": 29,
     "metadata": {},
     "output_type": "execute_result"
    }
   ],
   "source": [
    "df.head()"
   ]
  },
  {
   "cell_type": "code",
   "execution_count": 30,
   "id": "1a40d28f",
   "metadata": {},
   "outputs": [],
   "source": [
    "df = pd.get_dummies(df, columns=['Category', 'Post Weekday'])"
   ]
  },
  {
   "cell_type": "code",
   "execution_count": 31,
   "id": "e6d7645e",
   "metadata": {},
   "outputs": [
    {
     "data": {
      "text/html": [
       "<div>\n",
       "<style scoped>\n",
       "    .dataframe tbody tr th:only-of-type {\n",
       "        vertical-align: middle;\n",
       "    }\n",
       "\n",
       "    .dataframe tbody tr th {\n",
       "        vertical-align: top;\n",
       "    }\n",
       "\n",
       "    .dataframe thead th {\n",
       "        text-align: right;\n",
       "    }\n",
       "</style>\n",
       "<table border=\"1\" class=\"dataframe\">\n",
       "  <thead>\n",
       "    <tr style=\"text-align: right;\">\n",
       "      <th></th>\n",
       "      <th>Page total likes</th>\n",
       "      <th>Post Month</th>\n",
       "      <th>Post Hour</th>\n",
       "      <th>Paid</th>\n",
       "      <th>Lifetime Post Total Reach</th>\n",
       "      <th>comment</th>\n",
       "      <th>like</th>\n",
       "      <th>share</th>\n",
       "      <th>Total Interactions</th>\n",
       "      <th>Category_1</th>\n",
       "      <th>Category_2</th>\n",
       "      <th>Category_3</th>\n",
       "      <th>Post Weekday_1.0</th>\n",
       "      <th>Post Weekday_2.0</th>\n",
       "      <th>Post Weekday_3.0</th>\n",
       "      <th>Post Weekday_4.0</th>\n",
       "      <th>Post Weekday_5.0</th>\n",
       "      <th>Post Weekday_6.0</th>\n",
       "      <th>Post Weekday_7.0</th>\n",
       "    </tr>\n",
       "  </thead>\n",
       "  <tbody>\n",
       "    <tr>\n",
       "      <th>0</th>\n",
       "      <td>139441</td>\n",
       "      <td>12</td>\n",
       "      <td>3</td>\n",
       "      <td>0.0</td>\n",
       "      <td>2752.0</td>\n",
       "      <td>4.0</td>\n",
       "      <td>79.0</td>\n",
       "      <td>17.0</td>\n",
       "      <td>100</td>\n",
       "      <td>False</td>\n",
       "      <td>True</td>\n",
       "      <td>False</td>\n",
       "      <td>False</td>\n",
       "      <td>False</td>\n",
       "      <td>False</td>\n",
       "      <td>True</td>\n",
       "      <td>False</td>\n",
       "      <td>False</td>\n",
       "      <td>False</td>\n",
       "    </tr>\n",
       "    <tr>\n",
       "      <th>1</th>\n",
       "      <td>139441</td>\n",
       "      <td>12</td>\n",
       "      <td>10</td>\n",
       "      <td>0.0</td>\n",
       "      <td>10460.0</td>\n",
       "      <td>5.0</td>\n",
       "      <td>130.0</td>\n",
       "      <td>29.0</td>\n",
       "      <td>164</td>\n",
       "      <td>False</td>\n",
       "      <td>True</td>\n",
       "      <td>False</td>\n",
       "      <td>False</td>\n",
       "      <td>False</td>\n",
       "      <td>True</td>\n",
       "      <td>False</td>\n",
       "      <td>False</td>\n",
       "      <td>False</td>\n",
       "      <td>False</td>\n",
       "    </tr>\n",
       "    <tr>\n",
       "      <th>2</th>\n",
       "      <td>139441</td>\n",
       "      <td>12</td>\n",
       "      <td>3</td>\n",
       "      <td>0.0</td>\n",
       "      <td>2413.0</td>\n",
       "      <td>0.0</td>\n",
       "      <td>66.0</td>\n",
       "      <td>14.0</td>\n",
       "      <td>80</td>\n",
       "      <td>False</td>\n",
       "      <td>False</td>\n",
       "      <td>True</td>\n",
       "      <td>False</td>\n",
       "      <td>False</td>\n",
       "      <td>True</td>\n",
       "      <td>False</td>\n",
       "      <td>False</td>\n",
       "      <td>False</td>\n",
       "      <td>False</td>\n",
       "    </tr>\n",
       "    <tr>\n",
       "      <th>3</th>\n",
       "      <td>139441</td>\n",
       "      <td>12</td>\n",
       "      <td>10</td>\n",
       "      <td>1.0</td>\n",
       "      <td>50128.0</td>\n",
       "      <td>58.0</td>\n",
       "      <td>1572.0</td>\n",
       "      <td>147.0</td>\n",
       "      <td>1777</td>\n",
       "      <td>False</td>\n",
       "      <td>True</td>\n",
       "      <td>False</td>\n",
       "      <td>False</td>\n",
       "      <td>True</td>\n",
       "      <td>False</td>\n",
       "      <td>False</td>\n",
       "      <td>False</td>\n",
       "      <td>False</td>\n",
       "      <td>False</td>\n",
       "    </tr>\n",
       "    <tr>\n",
       "      <th>4</th>\n",
       "      <td>139441</td>\n",
       "      <td>12</td>\n",
       "      <td>3</td>\n",
       "      <td>0.0</td>\n",
       "      <td>7244.0</td>\n",
       "      <td>19.0</td>\n",
       "      <td>325.0</td>\n",
       "      <td>49.0</td>\n",
       "      <td>393</td>\n",
       "      <td>False</td>\n",
       "      <td>True</td>\n",
       "      <td>False</td>\n",
       "      <td>False</td>\n",
       "      <td>True</td>\n",
       "      <td>False</td>\n",
       "      <td>False</td>\n",
       "      <td>False</td>\n",
       "      <td>False</td>\n",
       "      <td>False</td>\n",
       "    </tr>\n",
       "  </tbody>\n",
       "</table>\n",
       "</div>"
      ],
      "text/plain": [
       "   Page total likes  Post Month  Post Hour  Paid  Lifetime Post Total Reach  \\\n",
       "0            139441          12          3   0.0                     2752.0   \n",
       "1            139441          12         10   0.0                    10460.0   \n",
       "2            139441          12          3   0.0                     2413.0   \n",
       "3            139441          12         10   1.0                    50128.0   \n",
       "4            139441          12          3   0.0                     7244.0   \n",
       "\n",
       "   comment    like  share  Total Interactions  Category_1  Category_2  \\\n",
       "0      4.0    79.0   17.0                 100       False        True   \n",
       "1      5.0   130.0   29.0                 164       False        True   \n",
       "2      0.0    66.0   14.0                  80       False       False   \n",
       "3     58.0  1572.0  147.0                1777       False        True   \n",
       "4     19.0   325.0   49.0                 393       False        True   \n",
       "\n",
       "   Category_3  Post Weekday_1.0  Post Weekday_2.0  Post Weekday_3.0  \\\n",
       "0       False             False             False             False   \n",
       "1       False             False             False              True   \n",
       "2        True             False             False              True   \n",
       "3       False             False              True             False   \n",
       "4       False             False              True             False   \n",
       "\n",
       "   Post Weekday_4.0  Post Weekday_5.0  Post Weekday_6.0  Post Weekday_7.0  \n",
       "0              True             False             False             False  \n",
       "1             False             False             False             False  \n",
       "2             False             False             False             False  \n",
       "3             False             False             False             False  \n",
       "4             False             False             False             False  "
      ]
     },
     "execution_count": 31,
     "metadata": {},
     "output_type": "execute_result"
    }
   ],
   "source": [
    "df.head()"
   ]
  },
  {
   "cell_type": "code",
   "execution_count": 32,
   "id": "4eafaf81",
   "metadata": {},
   "outputs": [
    {
     "name": "stdout",
     "output_type": "stream",
     "text": [
      "<class 'pandas.core.frame.DataFrame'>\n",
      "RangeIndex: 500 entries, 0 to 499\n",
      "Data columns (total 19 columns):\n",
      " #   Column                     Non-Null Count  Dtype  \n",
      "---  ------                     --------------  -----  \n",
      " 0   Page total likes           500 non-null    int64  \n",
      " 1   Post Month                 500 non-null    int64  \n",
      " 2   Post Hour                  500 non-null    int64  \n",
      " 3   Paid                       497 non-null    float64\n",
      " 4   Lifetime Post Total Reach  496 non-null    float64\n",
      " 5   comment                    497 non-null    float64\n",
      " 6   like                       499 non-null    float64\n",
      " 7   share                      486 non-null    float64\n",
      " 8   Total Interactions         500 non-null    int64  \n",
      " 9   Category_1                 500 non-null    bool   \n",
      " 10  Category_2                 500 non-null    bool   \n",
      " 11  Category_3                 500 non-null    bool   \n",
      " 12  Post Weekday_1.0           500 non-null    bool   \n",
      " 13  Post Weekday_2.0           500 non-null    bool   \n",
      " 14  Post Weekday_3.0           500 non-null    bool   \n",
      " 15  Post Weekday_4.0           500 non-null    bool   \n",
      " 16  Post Weekday_5.0           500 non-null    bool   \n",
      " 17  Post Weekday_6.0           500 non-null    bool   \n",
      " 18  Post Weekday_7.0           500 non-null    bool   \n",
      "dtypes: bool(10), float64(5), int64(4)\n",
      "memory usage: 40.2 KB\n"
     ]
    }
   ],
   "source": [
    "df.info()"
   ]
  },
  {
   "cell_type": "code",
   "execution_count": 33,
   "id": "a7ea2f57",
   "metadata": {},
   "outputs": [],
   "source": [
    "df.loc[df['Lifetime Post Total Reach'].isnull(), 'Lifetime Post Total Reach'] = df['Lifetime Post Total Reach'].median()\n",
    "df.loc[df['Paid'].isnull(), 'Paid'] = df['Paid'].median()\n",
    "df.loc[df['comment'].isnull(), 'comment'] = df['comment'].median()\n",
    "df.loc[df['like'].isnull(), 'like'] = df['like'].median()\n",
    "df.loc[df['share'].isnull(), 'share'] = df['share'].median()"
   ]
  },
  {
   "cell_type": "code",
   "execution_count": 34,
   "id": "6e99d042",
   "metadata": {},
   "outputs": [
    {
     "name": "stdout",
     "output_type": "stream",
     "text": [
      "<class 'pandas.core.frame.DataFrame'>\n",
      "RangeIndex: 500 entries, 0 to 499\n",
      "Data columns (total 19 columns):\n",
      " #   Column                     Non-Null Count  Dtype  \n",
      "---  ------                     --------------  -----  \n",
      " 0   Page total likes           500 non-null    int64  \n",
      " 1   Post Month                 500 non-null    int64  \n",
      " 2   Post Hour                  500 non-null    int64  \n",
      " 3   Paid                       500 non-null    float64\n",
      " 4   Lifetime Post Total Reach  500 non-null    float64\n",
      " 5   comment                    500 non-null    float64\n",
      " 6   like                       500 non-null    float64\n",
      " 7   share                      500 non-null    float64\n",
      " 8   Total Interactions         500 non-null    int64  \n",
      " 9   Category_1                 500 non-null    bool   \n",
      " 10  Category_2                 500 non-null    bool   \n",
      " 11  Category_3                 500 non-null    bool   \n",
      " 12  Post Weekday_1.0           500 non-null    bool   \n",
      " 13  Post Weekday_2.0           500 non-null    bool   \n",
      " 14  Post Weekday_3.0           500 non-null    bool   \n",
      " 15  Post Weekday_4.0           500 non-null    bool   \n",
      " 16  Post Weekday_5.0           500 non-null    bool   \n",
      " 17  Post Weekday_6.0           500 non-null    bool   \n",
      " 18  Post Weekday_7.0           500 non-null    bool   \n",
      "dtypes: bool(10), float64(5), int64(4)\n",
      "memory usage: 40.2 KB\n"
     ]
    }
   ],
   "source": [
    "df.info()"
   ]
  },
  {
   "cell_type": "code",
   "execution_count": 37,
   "id": "a261155b",
   "metadata": {},
   "outputs": [
    {
     "data": {
      "text/plain": [
       "array([0.74948025, 0.76923077, 0.44444444, 0.38492063, 0.42857143,\n",
       "       0.50396825, 0.38888889, 0.44642857, 0.25396825, 0.39285714])"
      ]
     },
     "execution_count": 37,
     "metadata": {},
     "output_type": "execute_result"
    }
   ],
   "source": [
    "dtc = RandomForestClassifier(n_estimators=2000)\n",
    "cross_val_score(\n",
    "    dtc,\n",
    "    df.drop('Paid', axis=1),\n",
    "    df['Paid'],\n",
    "    scoring='roc_auc',\n",
    "    cv=10\n",
    ")"
   ]
  },
  {
   "cell_type": "markdown",
   "id": "301bbad6",
   "metadata": {},
   "source": [
    "Пример использования с помощью библиотеки xgboost"
   ]
  },
  {
   "cell_type": "code",
   "execution_count": 39,
   "id": "ad1e0278",
   "metadata": {},
   "outputs": [],
   "source": [
    "from sklearn import datasets\n",
    "iris = datasets.load_iris()\n",
    "X = iris.data\n",
    "y = iris.target"
   ]
  },
  {
   "cell_type": "code",
   "execution_count": 40,
   "id": "edeeb91f",
   "metadata": {},
   "outputs": [],
   "source": [
    "X_train, X_test, y_train, y_test = train_test_split(X, y, test_size=0.2, random_state=42)"
   ]
  },
  {
   "cell_type": "code",
   "execution_count": 42,
   "id": "06a50c42",
   "metadata": {},
   "outputs": [
    {
     "name": "stdout",
     "output_type": "stream",
     "text": [
      "Collecting xgboost\n",
      "  Obtaining dependency information for xgboost from https://files.pythonhosted.org/packages/c1/cf/a662bc8f40588d54663edfe12980946670490bff0b6e793c7896a4fe36df/xgboost-2.0.0-py3-none-manylinux2014_x86_64.whl.metadata\n",
      "  Downloading xgboost-2.0.0-py3-none-manylinux2014_x86_64.whl.metadata (2.0 kB)\n",
      "Requirement already satisfied: numpy in /home/forever/Program/anaconda3/lib/python3.11/site-packages (from xgboost) (1.24.3)\n",
      "Requirement already satisfied: scipy in /home/forever/Program/anaconda3/lib/python3.11/site-packages (from xgboost) (1.11.1)\n",
      "Downloading xgboost-2.0.0-py3-none-manylinux2014_x86_64.whl (297.1 MB)\n",
      "\u001b[2K   \u001b[38;2;114;156;31m━━━━━━━━━━━━━━━━━━━━━━━━━━━━━━━━━━━━━━━━\u001b[0m \u001b[32m297.1/297.1 MB\u001b[0m \u001b[31m9.1 MB/s\u001b[0m eta \u001b[36m0:00:00\u001b[0m0m eta \u001b[36m0:00:01\u001b[0m[36m0:00:01\u001b[0m\n",
      "\u001b[?25hInstalling collected packages: xgboost\n",
      "Successfully installed xgboost-2.0.0\n"
     ]
    }
   ],
   "source": [
    "!pip install xgboost"
   ]
  },
  {
   "cell_type": "code",
   "execution_count": 43,
   "id": "f1117d15",
   "metadata": {},
   "outputs": [],
   "source": [
    "import xgboost as xgb                       \n",
    "dtrain = xgb.DMatrix(X_train, label=y_train)\n",
    "dtest = xgb.DMatrix(X_test, label=y_test)"
   ]
  },
  {
   "cell_type": "code",
   "execution_count": 47,
   "id": "6944a144",
   "metadata": {},
   "outputs": [],
   "source": [
    "param = {\n",
    "   'max_depth': 3,\n",
    "   'eta': 0.3,\n",
    "   'objective': 'multi:softprob',\n",
    "   'num_class': 3}\n",
    "num_round = 20"
   ]
  },
  {
   "cell_type": "code",
   "execution_count": 48,
   "id": "025d4868",
   "metadata": {},
   "outputs": [],
   "source": [
    "bst = xgb.train(param, dtrain, num_round)\n",
    "preds = bst.predict(dtest)"
   ]
  },
  {
   "cell_type": "code",
   "execution_count": 49,
   "id": "2f88eedd",
   "metadata": {},
   "outputs": [
    {
     "data": {
      "text/plain": [
       "1.0"
      ]
     },
     "execution_count": 49,
     "metadata": {},
     "output_type": "execute_result"
    }
   ],
   "source": [
    "import numpy as np\n",
    "best_preds = np.asarray([np.argmax(line) for line in preds])\n",
    "precision_score(y_test, best_preds, average='macro')"
   ]
  },
  {
   "cell_type": "markdown",
   "id": "b606c15e",
   "metadata": {},
   "source": [
    "Судя по результату, данная модель работает идеально."
   ]
  }
 ],
 "metadata": {
  "kernelspec": {
   "display_name": "Python 3 (ipykernel)",
   "language": "python",
   "name": "python3"
  },
  "language_info": {
   "codemirror_mode": {
    "name": "ipython",
    "version": 3
   },
   "file_extension": ".py",
   "mimetype": "text/x-python",
   "name": "python",
   "nbconvert_exporter": "python",
   "pygments_lexer": "ipython3",
   "version": "3.11.5"
  }
 },
 "nbformat": 4,
 "nbformat_minor": 5
}
